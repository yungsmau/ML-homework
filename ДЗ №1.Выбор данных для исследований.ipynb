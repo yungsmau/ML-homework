{
 "cells": [
  {
   "cell_type": "markdown",
   "metadata": {},
   "source": [
    "# Домашняя работа №1. Выбор данных для исследований"
   ]
  },
  {
   "cell_type": "markdown",
   "metadata": {},
   "source": [
    "Цель работы: выбрать датасеты для исследований и решения задач в рамках прохождения курса \"Машинное обучение\". "
   ]
  },
  {
   "cell_type": "markdown",
   "metadata": {},
   "source": [
    "## Задание №1"
   ]
  },
  {
   "cell_type": "markdown",
   "metadata": {},
   "source": [
    "Цель: скачать файл с данными для решения задач регрессии - предсказания непрерывного значения целевой переменной (например цена, рейтинг, площадь)  "
   ]
  },
  {
   "cell_type": "markdown",
   "metadata": {},
   "source": [
    "* Ознакомьтесь с источниками:\n",
    "\n",
    "    * https://archive.ics.uci.edu/datasets:\n",
    "    Отфильтруйте задачи по параметру Task, значение Regression. Выберите тему, которая вам ближе, ознакомьтесь с инструкцией по загрузки данных в ваш файл по кнопке Import in Python.\n",
    "    * https://www.openml.org/:\n",
    "    Отфильтруйте задачи по параметру Targets, значение Regression.\n",
    "    * https://www.kaggle.com/datasets\n",
    "     Отфильтруйте задачи по тэгу Regression.\n",
    "    "
   ]
  },
  {
   "cell_type": "markdown",
   "metadata": {},
   "source": [
    "* Скачайте один набор данных. \n",
    "* Создайте файл с описание данных.\n",
    "* Сохраните в файл ссылку на источник.\n",
    "* Сохраните в файл описание данных:\n",
    "    * список признаков с указанием названия, описания назначения, типа;\n",
    "    * название и описание целевой переменной."
   ]
  },
  {
   "cell_type": "markdown",
   "metadata": {},
   "source": [
    "## Задание №2"
   ]
  },
  {
   "cell_type": "markdown",
   "metadata": {},
   "source": [
    "Цель: скачать файл с данными для решения задач логистической регрессии - предсказание класса 0 или 1."
   ]
  },
  {
   "cell_type": "markdown",
   "metadata": {},
   "source": [
    "* Ознакомьтесь с источниками:\n",
    "\n",
    "    * https://archive.ics.uci.edu/datasets:\n",
    "        Отфильтруйте задачи по параметру Task, значение Classification. Выберите тему, которая вам ближе, изучите целевую переменную, выберите задачи с бинарной классификацией.\n",
    "    * https://www.openml.org/: \n",
    "        Отфильтруйте задачи по параметру Targets, значение Binary classification.\n",
    "    * https://www.kaggle.com/datasets\n",
    "        Отфильтруйте задачи по тэгу Binary classification.\n",
    "    "
   ]
  },
  {
   "cell_type": "markdown",
   "metadata": {},
   "source": [
    "* Скачайте один набор данных. \n",
    "* Сохраните ссылку на источник.\n",
    "* Сохраните описание данных:\n",
    "    * список признаков с указанием названия, описания назначения, типа;\n",
    "    * название и описание целевой переменной."
   ]
  }
 ],
 "metadata": {
  "kernelspec": {
   "display_name": ".venv",
   "language": "python",
   "name": "python3"
  },
  "language_info": {
   "codemirror_mode": {
    "name": "ipython",
    "version": 3
   },
   "file_extension": ".py",
   "mimetype": "text/x-python",
   "name": "python",
   "nbconvert_exporter": "python",
   "pygments_lexer": "ipython3",
   "version": "3.11.11"
  }
 },
 "nbformat": 4,
 "nbformat_minor": 2
}
